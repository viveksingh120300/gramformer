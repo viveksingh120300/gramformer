{
 "cells": [
  {
   "cell_type": "code",
   "execution_count": 1,
   "id": "e15cacba",
   "metadata": {},
   "outputs": [
    {
     "name": "stdout",
     "output_type": "stream",
     "text": [
      "Looking in links: https://download.pytorch.org/whl/lts/1.8/torch_lts.html\n",
      "Collecting torch\n",
      "  Downloading torch-1.9.0-cp38-none-macosx_10_9_x86_64.whl (127.9 MB)\n",
      "\u001b[K     |████████████████████████████████| 127.9 MB 306 kB/s eta 0:00:01\n",
      "\u001b[?25hCollecting torchvision\n",
      "  Downloading torchvision-0.10.0-cp38-cp38-macosx_10_9_x86_64.whl (13.9 MB)\n",
      "\u001b[K     |████████████████████████████████| 13.9 MB 1.9 MB/s eta 0:00:01     |█████████████████████████▌      | 11.1 MB 4.1 MB/s eta 0:00:01\n",
      "\u001b[?25hCollecting torchaudio\n",
      "  Downloading torchaudio-0.9.0-cp38-cp38-macosx_10_9_x86_64.whl (1.5 MB)\n",
      "\u001b[K     |████████████████████████████████| 1.5 MB 51.4 MB/s eta 0:00:01\n",
      "\u001b[?25hCollecting typing-extensions\n",
      "  Downloading typing_extensions-3.10.0.0-py3-none-any.whl (26 kB)\n",
      "Collecting numpy\n",
      "  Downloading numpy-1.21.0-cp38-cp38-macosx_10_9_x86_64.whl (16.9 MB)\n",
      "\u001b[K     |████████████████████████████████| 16.9 MB 835 kB/s eta 0:00:01\n",
      "\u001b[?25hCollecting pillow>=5.3.0\n",
      "  Downloading Pillow-8.2.0-cp38-cp38-macosx_10_10_x86_64.whl (2.8 MB)\n",
      "\u001b[K     |████████████████████████████████| 2.8 MB 3.4 MB/s eta 0:00:01\n",
      "\u001b[?25hInstalling collected packages: typing-extensions, torch, pillow, numpy, torchvision, torchaudio\n",
      "Successfully installed numpy-1.21.0 pillow-8.2.0 torch-1.9.0 torchaudio-0.9.0 torchvision-0.10.0 typing-extensions-3.10.0.0\n"
     ]
    }
   ],
   "source": [
    "!pip3 install torch torchvision torchaudio -f https://download.pytorch.org/whl/lts/1.8/torch_lts.html"
   ]
  },
  {
   "cell_type": "code",
   "execution_count": 2,
   "id": "ea7810a5",
   "metadata": {},
   "outputs": [
    {
     "name": "stdout",
     "output_type": "stream",
     "text": [
      "Collecting git+https://github.com/PrithivirajDamodaran/Gramformer.git\n",
      "  Cloning https://github.com/PrithivirajDamodaran/Gramformer.git to /private/var/folders/_c/g6y8797n7pj_l0y8d0v4j8ph0000gn/T/pip-req-build-86jgsx2y\n",
      "  Running command git clone -q https://github.com/PrithivirajDamodaran/Gramformer.git /private/var/folders/_c/g6y8797n7pj_l0y8d0v4j8ph0000gn/T/pip-req-build-86jgsx2y\n",
      "Collecting transformers\n",
      "  Downloading transformers-4.8.0-py3-none-any.whl (2.5 MB)\n",
      "\u001b[K     |████████████████████████████████| 2.5 MB 583 kB/s eta 0:00:01\n",
      "\u001b[?25hCollecting sentencepiece\n",
      "  Downloading sentencepiece-0.1.96-cp38-cp38-macosx_10_6_x86_64.whl (1.1 MB)\n",
      "\u001b[K     |████████████████████████████████| 1.1 MB 431 kB/s eta 0:00:01\n",
      "\u001b[?25hCollecting python-Levenshtein\n",
      "  Downloading python-Levenshtein-0.12.2.tar.gz (50 kB)\n",
      "\u001b[K     |████████████████████████████████| 50 kB 451 kB/s eta 0:00:01\n",
      "\u001b[?25hCollecting fuzzywuzzy\n",
      "  Downloading fuzzywuzzy-0.18.0-py2.py3-none-any.whl (18 kB)\n",
      "Requirement already satisfied: setuptools in ./gramenv/lib/python3.8/site-packages (from python-Levenshtein->gramformer==0.1) (49.2.1)\n",
      "Requirement already satisfied: numpy>=1.17 in ./gramenv/lib/python3.8/site-packages (from transformers->gramformer==0.1) (1.21.0)\n",
      "Collecting filelock\n",
      "  Downloading filelock-3.0.12-py3-none-any.whl (7.6 kB)\n",
      "Collecting requests\n",
      "  Downloading requests-2.25.1-py2.py3-none-any.whl (61 kB)\n",
      "\u001b[K     |████████████████████████████████| 61 kB 331 kB/s eta 0:00:01\n",
      "\u001b[?25hCollecting huggingface-hub==0.0.12\n",
      "  Downloading huggingface_hub-0.0.12-py3-none-any.whl (37 kB)\n",
      "Requirement already satisfied: packaging in ./gramenv/lib/python3.8/site-packages (from transformers->gramformer==0.1) (20.9)\n",
      "Collecting sacremoses\n",
      "  Downloading sacremoses-0.0.45-py3-none-any.whl (895 kB)\n",
      "\u001b[K     |████████████████████████████████| 895 kB 128 kB/s eta 0:00:01\n",
      "\u001b[?25hCollecting tokenizers<0.11,>=0.10.1\n",
      "  Downloading tokenizers-0.10.3-cp38-cp38-macosx_10_11_x86_64.whl (2.2 MB)\n",
      "\u001b[K     |████████████████████████████████| 2.2 MB 618 kB/s eta 0:00:01\n",
      "\u001b[?25hCollecting tqdm>=4.27\n",
      "  Downloading tqdm-4.61.1-py2.py3-none-any.whl (75 kB)\n",
      "\u001b[K     |████████████████████████████████| 75 kB 479 kB/s eta 0:00:01\n",
      "\u001b[?25hCollecting pyyaml\n",
      "  Downloading PyYAML-5.4.1-cp38-cp38-macosx_10_9_x86_64.whl (253 kB)\n",
      "\u001b[K     |████████████████████████████████| 253 kB 750 kB/s eta 0:00:01\n",
      "\u001b[?25hCollecting regex!=2019.12.17\n",
      "  Downloading regex-2021.4.4-cp38-cp38-macosx_10_9_x86_64.whl (284 kB)\n",
      "\u001b[K     |████████████████████████████████| 284 kB 365 kB/s eta 0:00:01\n",
      "\u001b[?25hRequirement already satisfied: typing-extensions in ./gramenv/lib/python3.8/site-packages (from huggingface-hub==0.0.12->transformers->gramformer==0.1) (3.10.0.0)\n",
      "Requirement already satisfied: pyparsing>=2.0.2 in ./gramenv/lib/python3.8/site-packages (from packaging->transformers->gramformer==0.1) (2.4.7)\n",
      "Collecting certifi>=2017.4.17\n",
      "  Downloading certifi-2021.5.30-py2.py3-none-any.whl (145 kB)\n",
      "\u001b[K     |████████████████████████████████| 145 kB 257 kB/s eta 0:00:01\n",
      "\u001b[?25hCollecting chardet<5,>=3.0.2\n",
      "  Downloading chardet-4.0.0-py2.py3-none-any.whl (178 kB)\n",
      "\u001b[K     |████████████████████████████████| 178 kB 255 kB/s eta 0:00:01\n",
      "\u001b[?25hCollecting idna<3,>=2.5\n",
      "  Downloading idna-2.10-py2.py3-none-any.whl (58 kB)\n",
      "\u001b[K     |████████████████████████████████| 58 kB 303 kB/s eta 0:00:01\n",
      "\u001b[?25hCollecting urllib3<1.27,>=1.21.1\n",
      "  Downloading urllib3-1.26.5-py2.py3-none-any.whl (138 kB)\n",
      "\u001b[K     |████████████████████████████████| 138 kB 284 kB/s eta 0:00:01\n",
      "\u001b[?25hCollecting click\n",
      "  Downloading click-8.0.1-py3-none-any.whl (97 kB)\n",
      "\u001b[K     |████████████████████████████████| 97 kB 514 kB/s eta 0:00:01\n",
      "\u001b[?25hCollecting joblib\n",
      "  Downloading joblib-1.0.1-py3-none-any.whl (303 kB)\n",
      "\u001b[K     |████████████████████████████████| 303 kB 471 kB/s eta 0:00:01\n",
      "\u001b[?25hRequirement already satisfied: six in ./gramenv/lib/python3.8/site-packages (from sacremoses->transformers->gramformer==0.1) (1.16.0)\n",
      "Using legacy 'setup.py install' for gramformer, since package 'wheel' is not installed.\n",
      "Using legacy 'setup.py install' for python-Levenshtein, since package 'wheel' is not installed.\n",
      "Installing collected packages: urllib3, idna, chardet, certifi, tqdm, requests, regex, joblib, filelock, click, tokenizers, sacremoses, pyyaml, huggingface-hub, transformers, sentencepiece, python-Levenshtein, fuzzywuzzy, gramformer\n",
      "    Running setup.py install for python-Levenshtein ... \u001b[?25ldone\n",
      "\u001b[?25h    Running setup.py install for gramformer ... \u001b[?25ldone\n",
      "\u001b[?25hSuccessfully installed certifi-2021.5.30 chardet-4.0.0 click-8.0.1 filelock-3.0.12 fuzzywuzzy-0.18.0 gramformer-0.1 huggingface-hub-0.0.12 idna-2.10 joblib-1.0.1 python-Levenshtein-0.12.2 pyyaml-5.4.1 regex-2021.4.4 requests-2.25.1 sacremoses-0.0.45 sentencepiece-0.1.96 tokenizers-0.10.3 tqdm-4.61.1 transformers-4.8.0 urllib3-1.26.5\n"
     ]
    }
   ],
   "source": [
    "!pip install git+https://github.com/PrithivirajDamodaran/Gramformer.git"
   ]
  },
  {
   "cell_type": "code",
   "execution_count": 1,
   "id": "56513706",
   "metadata": {},
   "outputs": [],
   "source": [
    "from gramformer import Gramformer"
   ]
  },
  {
   "cell_type": "code",
   "execution_count": 2,
   "id": "9e8c5e1e",
   "metadata": {},
   "outputs": [
    {
     "data": {
      "application/vnd.jupyter.widget-view+json": {
       "model_id": "22b6ee39a66744f0ad714fce342828fe",
       "version_major": 2,
       "version_minor": 0
      },
      "text/plain": [
       "Downloading:   0%|          | 0.00/1.39M [00:00<?, ?B/s]"
      ]
     },
     "metadata": {},
     "output_type": "display_data"
    },
    {
     "data": {
      "application/vnd.jupyter.widget-view+json": {
       "model_id": "9ec6ff4bc7904af18a23f1f8bf33bcb4",
       "version_major": 2,
       "version_minor": 0
      },
      "text/plain": [
       "Downloading:   0%|          | 0.00/892M [00:00<?, ?B/s]"
      ]
     },
     "metadata": {},
     "output_type": "display_data"
    },
    {
     "name": "stdout",
     "output_type": "stream",
     "text": [
      "[Gramformer] All models loaded..\n"
     ]
    }
   ],
   "source": [
    "gf = Gramformer(models = 3)"
   ]
  },
  {
   "cell_type": "code",
   "execution_count": 3,
   "id": "8c535eaa",
   "metadata": {},
   "outputs": [],
   "source": [
    "def correct(s):\n",
    "    res = gf.correct(s)\n",
    "    return (res[0])"
   ]
  },
  {
   "cell_type": "code",
   "execution_count": 4,
   "id": "b93fc3e5",
   "metadata": {},
   "outputs": [
    {
     "data": {
      "text/plain": [
       "'I am okay.'"
      ]
     },
     "execution_count": 4,
     "metadata": {},
     "output_type": "execute_result"
    }
   ],
   "source": [
    "correct('I is okay')"
   ]
  },
  {
   "cell_type": "code",
   "execution_count": 9,
   "id": "9efb3f2f",
   "metadata": {},
   "outputs": [
    {
     "name": "stdout",
     "output_type": "stream",
     "text": [
      "Requirement already satisfied: gradio in ./gramenv/lib/python3.8/site-packages (2.0.8)\n",
      "Requirement already satisfied: analytics-python in ./gramenv/lib/python3.8/site-packages (from gradio) (1.3.1)\n",
      "Requirement already satisfied: markdown2 in ./gramenv/lib/python3.8/site-packages (from gradio) (2.4.0)\n",
      "Requirement already satisfied: flask-cachebuster in ./gramenv/lib/python3.8/site-packages (from gradio) (1.0.0)\n",
      "Requirement already satisfied: ffmpy in ./gramenv/lib/python3.8/site-packages (from gradio) (0.3.0)\n",
      "Requirement already satisfied: pycryptodome in ./gramenv/lib/python3.8/site-packages (from gradio) (3.10.1)\n",
      "Requirement already satisfied: paramiko in ./gramenv/lib/python3.8/site-packages (from gradio) (2.7.2)\n",
      "Requirement already satisfied: requests in ./gramenv/lib/python3.8/site-packages (from gradio) (2.25.1)\n",
      "Requirement already satisfied: Flask>=1.1.1 in ./gramenv/lib/python3.8/site-packages (from gradio) (2.0.1)\n",
      "Requirement already satisfied: Flask-Cors>=3.0.8 in ./gramenv/lib/python3.8/site-packages (from gradio) (3.0.10)\n",
      "Requirement already satisfied: Flask-Login in ./gramenv/lib/python3.8/site-packages (from gradio) (0.5.0)\n",
      "Requirement already satisfied: numpy in ./gramenv/lib/python3.8/site-packages (from gradio) (1.21.0)\n",
      "Requirement already satisfied: matplotlib in ./gramenv/lib/python3.8/site-packages (from gradio) (3.4.2)\n",
      "Requirement already satisfied: pandas in ./gramenv/lib/python3.8/site-packages (from gradio) (1.2.5)\n",
      "Requirement already satisfied: scipy in ./gramenv/lib/python3.8/site-packages (from gradio) (1.7.0)\n",
      "Requirement already satisfied: pillow in ./gramenv/lib/python3.8/site-packages (from gradio) (8.2.0)\n",
      "Requirement already satisfied: Werkzeug>=2.0 in ./gramenv/lib/python3.8/site-packages (from Flask>=1.1.1->gradio) (2.0.1)\n",
      "Requirement already satisfied: Jinja2>=3.0 in ./gramenv/lib/python3.8/site-packages (from Flask>=1.1.1->gradio) (3.0.1)\n",
      "Requirement already satisfied: itsdangerous>=2.0 in ./gramenv/lib/python3.8/site-packages (from Flask>=1.1.1->gradio) (2.0.1)\n",
      "Requirement already satisfied: click>=7.1.2 in ./gramenv/lib/python3.8/site-packages (from Flask>=1.1.1->gradio) (8.0.1)\n",
      "Requirement already satisfied: Six in ./gramenv/lib/python3.8/site-packages (from Flask-Cors>=3.0.8->gradio) (1.16.0)\n",
      "Requirement already satisfied: MarkupSafe>=2.0 in ./gramenv/lib/python3.8/site-packages (from Jinja2>=3.0->Flask>=1.1.1->gradio) (2.0.1)\n",
      "Requirement already satisfied: monotonic>=1.5 in ./gramenv/lib/python3.8/site-packages (from analytics-python->gradio) (1.6)\n",
      "Requirement already satisfied: backoff==1.10.0 in ./gramenv/lib/python3.8/site-packages (from analytics-python->gradio) (1.10.0)\n",
      "Requirement already satisfied: python-dateutil>2.1 in ./gramenv/lib/python3.8/site-packages (from analytics-python->gradio) (2.8.1)\n",
      "Requirement already satisfied: idna<3,>=2.5 in ./gramenv/lib/python3.8/site-packages (from requests->gradio) (2.10)\n",
      "Requirement already satisfied: certifi>=2017.4.17 in ./gramenv/lib/python3.8/site-packages (from requests->gradio) (2021.5.30)\n",
      "Requirement already satisfied: urllib3<1.27,>=1.21.1 in ./gramenv/lib/python3.8/site-packages (from requests->gradio) (1.26.5)\n",
      "Requirement already satisfied: chardet<5,>=3.0.2 in ./gramenv/lib/python3.8/site-packages (from requests->gradio) (4.0.0)\n",
      "Requirement already satisfied: cycler>=0.10 in ./gramenv/lib/python3.8/site-packages (from matplotlib->gradio) (0.10.0)\n",
      "Requirement already satisfied: kiwisolver>=1.0.1 in ./gramenv/lib/python3.8/site-packages (from matplotlib->gradio) (1.3.1)\n",
      "Requirement already satisfied: pyparsing>=2.2.1 in ./gramenv/lib/python3.8/site-packages (from matplotlib->gradio) (2.4.7)\n",
      "Requirement already satisfied: pytz>=2017.3 in ./gramenv/lib/python3.8/site-packages (from pandas->gradio) (2021.1)\n",
      "Requirement already satisfied: cryptography>=2.5 in ./gramenv/lib/python3.8/site-packages (from paramiko->gradio) (3.4.7)\n",
      "Requirement already satisfied: bcrypt>=3.1.3 in ./gramenv/lib/python3.8/site-packages (from paramiko->gradio) (3.2.0)\n",
      "Requirement already satisfied: pynacl>=1.0.1 in ./gramenv/lib/python3.8/site-packages (from paramiko->gradio) (1.4.0)\n",
      "Requirement already satisfied: cffi>=1.1 in ./gramenv/lib/python3.8/site-packages (from bcrypt>=3.1.3->paramiko->gradio) (1.14.5)\n",
      "Requirement already satisfied: pycparser in ./gramenv/lib/python3.8/site-packages (from cffi>=1.1->bcrypt>=3.1.3->paramiko->gradio) (2.20)\n",
      "\u001b[33mWARNING: You are using pip version 21.1.2; however, version 21.1.3 is available.\n",
      "You should consider upgrading via the '/Users/vivek/DSwork/gramenv/bin/python -m pip install --upgrade pip' command.\u001b[0m\n"
     ]
    }
   ],
   "source": [
    "!pip install gradio"
   ]
  },
  {
   "cell_type": "code",
   "execution_count": 10,
   "id": "8120c0ce",
   "metadata": {},
   "outputs": [],
   "source": [
    "import gradio as gr "
   ]
  },
  {
   "cell_type": "code",
   "execution_count": 11,
   "id": "a53ddfc8",
   "metadata": {},
   "outputs": [],
   "source": [
    "app_inp = gr.inputs.Textbox(lines=2, placeholder='sentence')"
   ]
  },
  {
   "cell_type": "code",
   "execution_count": 12,
   "id": "2f921da4",
   "metadata": {},
   "outputs": [],
   "source": [
    "interface = gr.Interface(fn=correct, inputs = app_inp, outputs = 'text', title = 'Hello there')\n",
    "\n"
   ]
  },
  {
   "cell_type": "code",
   "execution_count": 14,
   "id": "eea95502",
   "metadata": {},
   "outputs": [
    {
     "name": "stdout",
     "output_type": "stream",
     "text": [
      "Running locally at: http://127.0.0.1:7862/\n",
      "This share link will expire in 24 hours. If you need a permanent link, visit: https://gradio.app/introducing-hosted (NEW!)\n",
      "Running on External URL: https://15600.gradio.app\n",
      "Interface loading below...\n"
     ]
    },
    {
     "data": {
      "text/html": [
       "\n",
       "        <iframe\n",
       "            width=\"900\"\n",
       "            height=\"500\"\n",
       "            src=\"https://15600.gradio.app\"\n",
       "            frameborder=\"0\"\n",
       "            allowfullscreen\n",
       "        ></iframe>\n",
       "        "
      ],
      "text/plain": [
       "<IPython.lib.display.IFrame at 0x7faa469f5ac0>"
      ]
     },
     "metadata": {},
     "output_type": "display_data"
    },
    {
     "data": {
      "text/plain": [
       "(<Flask 'gradio.networking'>,\n",
       " 'http://127.0.0.1:7862/',\n",
       " 'https://15600.gradio.app')"
      ]
     },
     "execution_count": 14,
     "metadata": {},
     "output_type": "execute_result"
    }
   ],
   "source": [
    "interface.launch(share=True)"
   ]
  },
  {
   "cell_type": "code",
   "execution_count": null,
   "id": "c594171c",
   "metadata": {},
   "outputs": [],
   "source": []
  }
 ],
 "metadata": {
  "kernelspec": {
   "display_name": "gramenv",
   "language": "python",
   "name": "gramenv"
  },
  "language_info": {
   "codemirror_mode": {
    "name": "ipython",
    "version": 3
   },
   "file_extension": ".py",
   "mimetype": "text/x-python",
   "name": "python",
   "nbconvert_exporter": "python",
   "pygments_lexer": "ipython3",
   "version": "3.8.8"
  }
 },
 "nbformat": 4,
 "nbformat_minor": 5
}
